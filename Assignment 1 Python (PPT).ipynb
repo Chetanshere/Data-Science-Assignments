{
 "cells": [
  {
   "cell_type": "markdown",
   "id": "7dec63e9",
   "metadata": {},
   "source": [
    "## 1. Write a Python program to reverse a string without using any built-in string reversal functions.\n"
   ]
  },
  {
   "cell_type": "code",
   "execution_count": 4,
   "id": "b927f8e4",
   "metadata": {},
   "outputs": [
    {
     "name": "stdout",
     "output_type": "stream",
     "text": [
      "Enter a string: chetan\n",
      "Reversed string:  natehc\n"
     ]
    }
   ],
   "source": [
    "input_string= input(\"Enter a string: \")\n",
    "string_reversed= \"\"\n",
    "\n",
    "for i in range(len(input_string)-1, -1, -1):\n",
    "    string_reversed += input_string[i]\n",
    "    \n",
    "print(\"Reversed string: \",string_reversed )    "
   ]
  },
  {
   "cell_type": "markdown",
   "id": "de10d0ce",
   "metadata": {},
   "source": [
    "## 2. Implement a function to check if a given string is a palindrome.\n"
   ]
  },
  {
   "cell_type": "code",
   "execution_count": 9,
   "id": "2a9be635",
   "metadata": {},
   "outputs": [
    {
     "name": "stdout",
     "output_type": "stream",
     "text": [
      "Enter a string: madam\n",
      " madam is a palindrome word\n"
     ]
    }
   ],
   "source": [
    "def Is_Palindrome(string):\n",
    "    reversed_string = string[::-1]\n",
    "    return string== reversed_string\n",
    "\n",
    "\n",
    "input_string= input(\"Enter a string: \")\n",
    "if Is_Palindrome(input_string):\n",
    "    print(\" {} is a palindrome word\".format(input_string))\n",
    "else:\n",
    "    print(\"{} is not a palindrome word\".format(input_string))\n",
    "    "
   ]
  },
  {
   "cell_type": "markdown",
   "id": "96cca2fc",
   "metadata": {},
   "source": [
    "## 3. Write a program to find the largest element in a given list"
   ]
  },
  {
   "cell_type": "code",
   "execution_count": 10,
   "id": "8ceee05d",
   "metadata": {},
   "outputs": [],
   "source": [
    "def find_largest(input_list):\n",
    "    sorted_list= sorted(input_list)\n",
    "    largest_ele= sorted_list[-1]\n",
    "    print(\"{} is the largest element in {}\".format(largest_ele, input_list))"
   ]
  },
  {
   "cell_type": "code",
   "execution_count": 11,
   "id": "0c5f884c",
   "metadata": {},
   "outputs": [
    {
     "name": "stdout",
     "output_type": "stream",
     "text": [
      "1234 is the largest element in [1, 5, 66, 906, 1234]\n"
     ]
    }
   ],
   "source": [
    "find_largest([1,5,66,906,1234])"
   ]
  },
  {
   "cell_type": "markdown",
   "id": "2c5d454e",
   "metadata": {},
   "source": [
    "## 4. Implement a function to count the occurrence of each element in a list.\n"
   ]
  },
  {
   "cell_type": "code",
   "execution_count": 14,
   "id": "bac0f362",
   "metadata": {},
   "outputs": [
    {
     "name": "stdout",
     "output_type": "stream",
     "text": [
      "Number of occurrence of an element in a list:  {1: 3, 222: 2, 3: 2, 4: 1, 6: 3, 7: 1, 8: 2}\n"
     ]
    }
   ],
   "source": [
    "def number_of_occurrence(input_list):\n",
    "    ele_count= {}\n",
    "    for element in input_list:\n",
    "        if element in ele_count:\n",
    "            ele_count[element] +=1\n",
    "        else :\n",
    "            ele_count[element] = 1\n",
    "    return ele_count\n",
    "\n",
    "lst= [1,222,222,3,4,3,6,7,8,8,6,6,1,1]\n",
    "occurrence=number_of_occurrence(lst)\n",
    "print(\"Number of occurrence of an element in a list: \", occurrence)\n",
    "        "
   ]
  },
  {
   "cell_type": "markdown",
   "id": "1b07379c",
   "metadata": {},
   "source": [
    "## 5. Write a Python program to find the second largest number in a list.\n"
   ]
  },
  {
   "cell_type": "code",
   "execution_count": 15,
   "id": "bf2b4e8d",
   "metadata": {},
   "outputs": [],
   "source": [
    "def second_largest(lst):\n",
    "    sorted_list= sorted(lst)\n",
    "    sec_largest= sorted_list[-2]\n",
    "    print(\"{} is the second largest element in {}\".format(sec_largest, lst))"
   ]
  },
  {
   "cell_type": "code",
   "execution_count": 17,
   "id": "990df3cd",
   "metadata": {},
   "outputs": [
    {
     "name": "stdout",
     "output_type": "stream",
     "text": [
      "89 is the second largest element in [16, 2, 89, 4, 57, 6, 7, 8, 90]\n"
     ]
    }
   ],
   "source": [
    "second_largest([16,2,89,4,57,6,7,8,90])"
   ]
  },
  {
   "cell_type": "markdown",
   "id": "ed813800",
   "metadata": {},
   "source": [
    "## 6. Implement a function to remove duplicate elements from a list"
   ]
  },
  {
   "cell_type": "code",
   "execution_count": 19,
   "id": "1db9429f",
   "metadata": {},
   "outputs": [
    {
     "name": "stdout",
     "output_type": "stream",
     "text": [
      "Original list : [1, 2, 3, 22, 45, 1, 222, 85, 45, 54]\n",
      "List after removing the duplicates:  [1, 2, 3, 45, 85, 22, 54, 222]\n"
     ]
    }
   ],
   "source": [
    "def remove_duplicates(lst):\n",
    "    return list(set(lst))\n",
    "\n",
    "input_list = [1,2,3,22,45,1,222,85,45,54]\n",
    "unique_list = remove_duplicates (input_list)\n",
    "print(\"Original list :\", input_list)\n",
    "print(\"List after removing the duplicates: \", unique_list)"
   ]
  },
  {
   "cell_type": "markdown",
   "id": "34ece9f5",
   "metadata": {},
   "source": [
    "## 7. Write a program to calculate the factorial of a given number.\n"
   ]
  },
  {
   "cell_type": "code",
   "execution_count": 1,
   "id": "2271b1dd",
   "metadata": {},
   "outputs": [],
   "source": [
    "def fact(num):\n",
    "    return 1 if (num==1 or num==0) else num * fact(num - 1);\n",
    "    "
   ]
  },
  {
   "cell_type": "code",
   "execution_count": 2,
   "id": "d7aa0014",
   "metadata": {},
   "outputs": [
    {
     "data": {
      "text/plain": [
       "720"
      ]
     },
     "execution_count": 2,
     "metadata": {},
     "output_type": "execute_result"
    }
   ],
   "source": [
    "fact(6)"
   ]
  },
  {
   "cell_type": "markdown",
   "id": "61db0484",
   "metadata": {},
   "source": [
    "## 8. Implement a function to check if a given number is prime.\n"
   ]
  },
  {
   "cell_type": "code",
   "execution_count": 1,
   "id": "4501b5a4",
   "metadata": {},
   "outputs": [
    {
     "name": "stdout",
     "output_type": "stream",
     "text": [
      "Enter any number: 87\n",
      "87 is not a prime number\n"
     ]
    }
   ],
   "source": [
    "def is_prime(n):\n",
    "    if n<= 1:\n",
    "        return False\n",
    "    for i in range(2, int(n**0.5) + 1):\n",
    "        if n%i == 0:\n",
    "            return False\n",
    "    return True\n",
    "\n",
    "\n",
    "input_number= int(input(\"Enter any number: \"))\n",
    "if is_prime(input_number):\n",
    "    print(input_number, \"is a prime number\")\n",
    "else:\n",
    "    print(input_number, \"is not a prime number\")\n",
    "    "
   ]
  },
  {
   "cell_type": "markdown",
   "id": "579cc14c",
   "metadata": {},
   "source": [
    "## 9. Write a Python program to sort a list of integers in ascending order.\n"
   ]
  },
  {
   "cell_type": "code",
   "execution_count": 2,
   "id": "fd10f933",
   "metadata": {},
   "outputs": [],
   "source": [
    "def list_sort (lst):\n",
    "    sorted_lst= lst.copy()\n",
    "    sorted_lst.sort()\n",
    "    return sorted_lst\n",
    "\n"
   ]
  },
  {
   "cell_type": "code",
   "execution_count": 3,
   "id": "037252bd",
   "metadata": {},
   "outputs": [
    {
     "data": {
      "text/plain": [
       "[34.6, 45, 67, 78, 99, 153]"
      ]
     },
     "execution_count": 3,
     "metadata": {},
     "output_type": "execute_result"
    }
   ],
   "source": [
    "list_sort([45,67,34.6,78,99,153])"
   ]
  },
  {
   "cell_type": "markdown",
   "id": "b3e1912b",
   "metadata": {},
   "source": [
    "## 10. Implement a function to find the sum of all numbers in a list."
   ]
  },
  {
   "cell_type": "code",
   "execution_count": 8,
   "id": "b7493e26",
   "metadata": {},
   "outputs": [],
   "source": [
    "def sum_list (lst):\n",
    "    sum=0\n",
    "    for i in lst:\n",
    "        sum += i\n",
    "    print (\"sum of all the elements is: \", sum)   "
   ]
  },
  {
   "cell_type": "code",
   "execution_count": 9,
   "id": "053c29ac",
   "metadata": {},
   "outputs": [
    {
     "name": "stdout",
     "output_type": "stream",
     "text": [
      "sum of all the elements is:  132\n"
     ]
    }
   ],
   "source": [
    "sum_list([1,2,3,4,55,67])"
   ]
  },
  {
   "cell_type": "markdown",
   "id": "b737e055",
   "metadata": {},
   "source": [
    "## 11. Write a program to find the common elements between two lists.\n"
   ]
  },
  {
   "cell_type": "code",
   "execution_count": 15,
   "id": "f2a00fda",
   "metadata": {},
   "outputs": [],
   "source": [
    "def commom_ele (lst1, lst2):\n",
    "    s= []\n",
    "    for i in lst1:\n",
    "        for j in lst2:\n",
    "            if i==j:\n",
    "                s.append(i)\n",
    "    return s           "
   ]
  },
  {
   "cell_type": "code",
   "execution_count": 16,
   "id": "5f7a0e2c",
   "metadata": {},
   "outputs": [
    {
     "data": {
      "text/plain": [
       "[1, 2, 4, 7, 9]"
      ]
     },
     "execution_count": 16,
     "metadata": {},
     "output_type": "execute_result"
    }
   ],
   "source": [
    "commom_ele([1,2,3,4,5,6,7,8,9], [1,4,2,7,9,33])"
   ]
  },
  {
   "cell_type": "markdown",
   "id": "c8bef7a1",
   "metadata": {},
   "source": [
    "## 12. Implement a function to check if a given string is an anagram of another string.\n"
   ]
  },
  {
   "cell_type": "code",
   "execution_count": 23,
   "id": "1e9f6cf3",
   "metadata": {},
   "outputs": [],
   "source": [
    "def anagram_string (string1, string2):\n",
    "    for i in string1:\n",
    "        for j in string2:\n",
    "            if i in string2:\n",
    "                return True\n",
    "            else:\n",
    "                return False       "
   ]
  },
  {
   "cell_type": "code",
   "execution_count": 24,
   "id": "13dfcf64",
   "metadata": {},
   "outputs": [
    {
     "data": {
      "text/plain": [
       "True"
      ]
     },
     "execution_count": 24,
     "metadata": {},
     "output_type": "execute_result"
    }
   ],
   "source": [
    "anagram_string ('rasp', 'spar')"
   ]
  },
  {
   "cell_type": "markdown",
   "id": "10191554",
   "metadata": {},
   "source": [
    "## 13. Write a Python program to generate all permutations of a given string.\n"
   ]
  },
  {
   "cell_type": "code",
   "execution_count": 30,
   "id": "141841f2",
   "metadata": {},
   "outputs": [],
   "source": [
    "def permute_string (string):\n",
    "    if len(string)<=1:\n",
    "        return [string]\n",
    "    \n",
    "    permutations= []\n",
    "    for i in range(len(string)):\n",
    "        current_char = string[i]\n",
    "        remaining_char = string[:i] + string[i+1:]\n",
    "        other_permuts = permute_string(remaining_char)\n",
    "        for j in other_permuts:\n",
    "            permutations.append (current_char + j)\n",
    "    return permutations[:11]\n",
    "\n",
    "\n"
   ]
  },
  {
   "cell_type": "code",
   "execution_count": 31,
   "id": "0045cbe0",
   "metadata": {},
   "outputs": [
    {
     "data": {
      "text/plain": [
       "['elephant',\n",
       " 'elephatn',\n",
       " 'elephnat',\n",
       " 'elephnta',\n",
       " 'elephtan',\n",
       " 'elephtna',\n",
       " 'elepahnt',\n",
       " 'elepahtn',\n",
       " 'elepanht',\n",
       " 'elepanth',\n",
       " 'elepathn']"
      ]
     },
     "execution_count": 31,
     "metadata": {},
     "output_type": "execute_result"
    }
   ],
   "source": [
    "permute_string('elephant')"
   ]
  },
  {
   "cell_type": "markdown",
   "id": "ff93bb1b",
   "metadata": {},
   "source": [
    "## 14. Implement a function to calculate the Fibonacci sequence up to a given number of terms.\n"
   ]
  },
  {
   "cell_type": "code",
   "execution_count": 32,
   "id": "b95f92c2",
   "metadata": {},
   "outputs": [],
   "source": [
    "def fib_series (n):\n",
    "    l= []\n",
    "    \n",
    "    if n == 0:\n",
    "        return l\n",
    "    if n >= 1:\n",
    "        l.append(0)\n",
    "    if n >= 2:\n",
    "        l.append(1)\n",
    "    for i in range(2, n):\n",
    "        nxt_term = l[i - 1] + l[i - 2]\n",
    "        l.append(nxt_term)\n",
    "        \n",
    "    return l    "
   ]
  },
  {
   "cell_type": "code",
   "execution_count": 35,
   "id": "cd2036e5",
   "metadata": {},
   "outputs": [
    {
     "data": {
      "text/plain": [
       "[0, 1, 1, 2, 3, 5, 8, 13, 21, 34, 55, 89, 144]"
      ]
     },
     "execution_count": 35,
     "metadata": {},
     "output_type": "execute_result"
    }
   ],
   "source": [
    "fib_series (13)"
   ]
  },
  {
   "cell_type": "markdown",
   "id": "c8385736",
   "metadata": {},
   "source": [
    "## 15. Write a program to find the median of a list of numbers.\n"
   ]
  },
  {
   "cell_type": "code",
   "execution_count": 45,
   "id": "06b963cc",
   "metadata": {},
   "outputs": [],
   "source": [
    "def median(lst):\n",
    "    lst1= sorted(lst)\n",
    "    if len(lst)%2 != 0:\n",
    "        index= (len(lst) + 1) // 2\n",
    "        print(\"Median is: \",lst1[index])\n",
    "        \n",
    "    if len(lst)%2 == 0:\n",
    "        index1 = (len(lst)//2)\n",
    "        index2 = (len(lst)//2) + 1\n",
    "        final_index = (index1 + index2) // 2\n",
    "        print(\"Median is: \", lst1[final_index])"
   ]
  },
  {
   "cell_type": "code",
   "execution_count": 46,
   "id": "b958dbe4",
   "metadata": {},
   "outputs": [
    {
     "name": "stdout",
     "output_type": "stream",
     "text": [
      "Median is:  22\n"
     ]
    }
   ],
   "source": [
    "median([1,2,3,44,89,11,22])"
   ]
  },
  {
   "cell_type": "code",
   "execution_count": 47,
   "id": "59ff7432",
   "metadata": {},
   "outputs": [
    {
     "name": "stdout",
     "output_type": "stream",
     "text": [
      "Median is:  69\n"
     ]
    }
   ],
   "source": [
    "median([66,43,92,80,69,12])"
   ]
  },
  {
   "cell_type": "markdown",
   "id": "5e5ecdd1",
   "metadata": {},
   "source": [
    "## 16. Implement a function to check if a given list is sorted in non-decreasing order.\n"
   ]
  },
  {
   "cell_type": "code",
   "execution_count": 51,
   "id": "18f2ceb4",
   "metadata": {},
   "outputs": [],
   "source": [
    "def check_sorted (lst):\n",
    "    sorted_list = list(sorted(lst))\n",
    "    if lst == sorted_list:\n",
    "        print(\"Given list is sorted in non-decreasing order\") \n",
    "        \n",
    "    else:\n",
    "        print(\"The given list is not sorted in non-decreasing order\")"
   ]
  },
  {
   "cell_type": "code",
   "execution_count": 52,
   "id": "d625f92b",
   "metadata": {},
   "outputs": [
    {
     "name": "stdout",
     "output_type": "stream",
     "text": [
      "The given list is not sorted in non-decreasing order\n"
     ]
    }
   ],
   "source": [
    "check_sorted([1,33,76,34,21])"
   ]
  },
  {
   "cell_type": "code",
   "execution_count": 53,
   "id": "ef799216",
   "metadata": {},
   "outputs": [
    {
     "name": "stdout",
     "output_type": "stream",
     "text": [
      "Given list is sorted in non-decreasing order\n"
     ]
    }
   ],
   "source": [
    "check_sorted ([1,2,3,4,5,6,7])"
   ]
  },
  {
   "cell_type": "markdown",
   "id": "b54bc807",
   "metadata": {},
   "source": [
    "## 17. Write a Python program to find the intersection of two lists.\n"
   ]
  },
  {
   "cell_type": "code",
   "execution_count": 58,
   "id": "badbeaf4",
   "metadata": {},
   "outputs": [],
   "source": [
    "def intersection (lst1, lst2):\n",
    "    intersect= list(set(lst1) & set(lst2))\n",
    "    return intersect"
   ]
  },
  {
   "cell_type": "code",
   "execution_count": 59,
   "id": "0b357383",
   "metadata": {},
   "outputs": [
    {
     "data": {
      "text/plain": [
       "[56, 3]"
      ]
     },
     "execution_count": 59,
     "metadata": {},
     "output_type": "execute_result"
    }
   ],
   "source": [
    "intersection([56,76,3,4,59], [3,56,43,221])"
   ]
  },
  {
   "cell_type": "markdown",
   "id": "b3b4dfb8",
   "metadata": {},
   "source": [
    "## 18. Implement a function to find the maximum subarray sum in a given list.\n"
   ]
  },
  {
   "cell_type": "code",
   "execution_count": 60,
   "id": "930f72a9",
   "metadata": {},
   "outputs": [
    {
     "name": "stdout",
     "output_type": "stream",
     "text": [
      "Maximum subarray sum: 6\n"
     ]
    }
   ],
   "source": [
    "def max_subarray_sum(lst):\n",
    "    max_sum = float('-inf')  # Initialize max_sum with negative infinity\n",
    "    current_sum = 0\n",
    "\n",
    "    for num in lst:\n",
    "        current_sum += num\n",
    "        if current_sum > max_sum:\n",
    "            max_sum = current_sum\n",
    "        if current_sum < 0:\n",
    "            current_sum = 0\n",
    "\n",
    "    return max_sum\n",
    "\n",
    "# Example usage:\n",
    "input_list = [-2, 1, -3, 4, -1, 2, 1, -5, 4]\n",
    "max_sum = max_subarray_sum(input_list)\n",
    "print(\"Maximum subarray sum:\", max_sum)"
   ]
  },
  {
   "cell_type": "markdown",
   "id": "84722153",
   "metadata": {},
   "source": [
    "## 19. Write a program to remove all vowels from a given string.\n"
   ]
  },
  {
   "cell_type": "code",
   "execution_count": 70,
   "id": "ffe5bcfc",
   "metadata": {},
   "outputs": [],
   "source": [
    "def remove_vowels (string):\n",
    "    vowels= ['a','i','e','o','u','A','E','I','O','U']\n",
    "    new_string= ''\n",
    "    for i in string:\n",
    "        if i not in vowels:\n",
    "            new_string += i\n",
    "            \n",
    "    return new_string       \n",
    "            "
   ]
  },
  {
   "cell_type": "code",
   "execution_count": 71,
   "id": "cb527f8a",
   "metadata": {},
   "outputs": [
    {
     "data": {
      "text/plain": [
       "'CHtn'"
      ]
     },
     "execution_count": 71,
     "metadata": {},
     "output_type": "execute_result"
    }
   ],
   "source": [
    "remove_vowels('CHetAn')"
   ]
  },
  {
   "cell_type": "markdown",
   "id": "1eebdd94",
   "metadata": {},
   "source": [
    "## 20. Implement a function to reverse the order of words in a given sentence"
   ]
  },
  {
   "cell_type": "code",
   "execution_count": 72,
   "id": "28a4ac6c",
   "metadata": {},
   "outputs": [],
   "source": [
    "def reverse_sentence (sentence):\n",
    "    words = sentence.split()\n",
    "    rev_words = words[::-1]\n",
    "    rev_sent = \" \".join(rev_words)\n",
    "    return rev_sent"
   ]
  },
  {
   "cell_type": "code",
   "execution_count": 73,
   "id": "cedfa39a",
   "metadata": {},
   "outputs": [
    {
     "data": {
      "text/plain": [
       "'august of month the in job the got I'"
      ]
     },
     "execution_count": 73,
     "metadata": {},
     "output_type": "execute_result"
    }
   ],
   "source": [
    "reverse_sentence (\"I got the job  in the month of august\")"
   ]
  },
  {
   "cell_type": "markdown",
   "id": "ca496f1d",
   "metadata": {},
   "source": [
    "## 21. Write a Python program to check if two strings are anagrams of each other.\n"
   ]
  },
  {
   "cell_type": "code",
   "execution_count": 79,
   "id": "625b60c9",
   "metadata": {},
   "outputs": [],
   "source": [
    "def anagram_string (string1, string2):\n",
    "    for i in string1:\n",
    "        for j in string2:\n",
    "            if i in string2:\n",
    "                \n",
    "                for i in string1:\n",
    "                    if j in string2:\n",
    "                        return True\n",
    "                    \n",
    "            else:\n",
    "                return False"
   ]
  },
  {
   "cell_type": "code",
   "execution_count": 80,
   "id": "1891b00f",
   "metadata": {},
   "outputs": [
    {
     "data": {
      "text/plain": [
       "True"
      ]
     },
     "execution_count": 80,
     "metadata": {},
     "output_type": "execute_result"
    }
   ],
   "source": [
    "anagram_string ('elbow' , 'below')"
   ]
  },
  {
   "cell_type": "code",
   "execution_count": 81,
   "id": "93b8021c",
   "metadata": {},
   "outputs": [
    {
     "data": {
      "text/plain": [
       "False"
      ]
     },
     "execution_count": 81,
     "metadata": {},
     "output_type": "execute_result"
    }
   ],
   "source": [
    "anagram_string ('ineuron', 'nephrons')"
   ]
  },
  {
   "cell_type": "markdown",
   "id": "2496c1aa",
   "metadata": {},
   "source": [
    "## 22. Implement a function to find the first non-repeating character in a string.\n"
   ]
  },
  {
   "cell_type": "code",
   "execution_count": 82,
   "id": "6446f90e",
   "metadata": {},
   "outputs": [
    {
     "name": "stdout",
     "output_type": "stream",
     "text": [
      "Enter a string: check\n",
      "First non-repeating character: h\n"
     ]
    }
   ],
   "source": [
    "def find_first_non_repeating_char(string):\n",
    "    char_count = {}\n",
    "\n",
    "    # Count the occurrences of each character\n",
    "    for char in string:\n",
    "        if char in char_count:\n",
    "            char_count[char] += 1\n",
    "        else:\n",
    "            char_count[char] = 1\n",
    "\n",
    "    # Find the first non-repeating character\n",
    "    for char in string:\n",
    "        if char_count[char] == 1:\n",
    "            return char\n",
    "\n",
    "    # If no non-repeating character is found, return None\n",
    "    return None\n",
    "\n",
    "# Example usage:\n",
    "input_string = input(\"Enter a string: \")\n",
    "result = find_first_non_repeating_char(input_string)\n",
    "if result is not None:\n",
    "    print(\"First non-repeating character:\", result)\n",
    "else:\n",
    "    print(\"No non-repeating character found.\")\n"
   ]
  },
  {
   "cell_type": "markdown",
   "id": "f2bf32f2",
   "metadata": {},
   "source": [
    "## 23. Write a program to find the prime factors of a given number."
   ]
  },
  {
   "cell_type": "code",
   "execution_count": 83,
   "id": "1dd74acb",
   "metadata": {},
   "outputs": [],
   "source": [
    "def find_prime_factors(n):\n",
    "    factors = []\n",
    "    i = 2\n",
    "    while i * i <= n:\n",
    "        if n % i == 0:\n",
    "            factors.append(i)\n",
    "            n //= i\n",
    "        else:\n",
    "            i += 1\n",
    "    if n > 1:\n",
    "        factors.append(n)\n",
    "    return factors"
   ]
  },
  {
   "cell_type": "code",
   "execution_count": 84,
   "id": "2eecc348",
   "metadata": {},
   "outputs": [
    {
     "data": {
      "text/plain": [
       "[3, 3, 5]"
      ]
     },
     "execution_count": 84,
     "metadata": {},
     "output_type": "execute_result"
    }
   ],
   "source": [
    "find_prime_factors(45)"
   ]
  },
  {
   "cell_type": "markdown",
   "id": "9834ff01",
   "metadata": {},
   "source": [
    "## 24. Implement a function to check if a given number is a power of two."
   ]
  },
  {
   "cell_type": "code",
   "execution_count": 85,
   "id": "5f08e216",
   "metadata": {},
   "outputs": [],
   "source": [
    "def power_of_two (n):\n",
    "    if n <= 0:\n",
    "        return False\n",
    "    return (n & (n-1)) == 0"
   ]
  },
  {
   "cell_type": "code",
   "execution_count": 86,
   "id": "90cf946d",
   "metadata": {},
   "outputs": [
    {
     "data": {
      "text/plain": [
       "True"
      ]
     },
     "execution_count": 86,
     "metadata": {},
     "output_type": "execute_result"
    }
   ],
   "source": [
    "power_of_two (32)"
   ]
  },
  {
   "cell_type": "markdown",
   "id": "da6cd93c",
   "metadata": {},
   "source": [
    "## 25. Write a Python program to merge two sorted lists into a single sorted list.\n"
   ]
  },
  {
   "cell_type": "code",
   "execution_count": 87,
   "id": "82d22d3a",
   "metadata": {},
   "outputs": [
    {
     "name": "stdout",
     "output_type": "stream",
     "text": [
      "Merged and sorted list: [1, 2, 3, 4, 5, 6, 7, 8]\n"
     ]
    }
   ],
   "source": [
    "def merge_sorted_lists(list1, list2):\n",
    "    merged_list = []\n",
    "    i = j = 0\n",
    "\n",
    "    while i < len(list1) and j < len(list2):\n",
    "        if list1[i] <= list2[j]:\n",
    "            merged_list.append(list1[i])\n",
    "            i += 1\n",
    "        else:\n",
    "            merged_list.append(list2[j])\n",
    "            j += 1\n",
    "\n",
    "    # Append remaining elements, if any\n",
    "    merged_list.extend(list1[i:])\n",
    "    merged_list.extend(list2[j:])\n",
    "\n",
    "    return merged_list\n",
    "\n",
    "# Example usage:\n",
    "list1 = [1, 3, 5, 7]\n",
    "list2 = [2, 4, 6, 8]\n",
    "merged_list = merge_sorted_lists(list1, list2)\n",
    "print(\"Merged and sorted list:\", merged_list)\n"
   ]
  },
  {
   "cell_type": "markdown",
   "id": "29dd34e7",
   "metadata": {},
   "source": [
    "## 26. Implement a function to find the mode of a list of numbers.\n"
   ]
  },
  {
   "cell_type": "code",
   "execution_count": 88,
   "id": "08582504",
   "metadata": {},
   "outputs": [
    {
     "name": "stdout",
     "output_type": "stream",
     "text": [
      "Mode: [1, 2, 3, 4]\n"
     ]
    }
   ],
   "source": [
    "from collections import Counter\n",
    "\n",
    "def find_mode(numbers):\n",
    "    counter = Counter(numbers)\n",
    "    max_count = max(counter.values())\n",
    "    mode = [num for num, count in counter.items() if count == max_count]\n",
    "    return mode\n",
    "\n",
    "input_numbers = [1, 2, 3, 2, 4, 3, 5, 1, 4]\n",
    "mode_values = find_mode(input_numbers)\n",
    "print(\"Mode:\", mode_values)"
   ]
  },
  {
   "cell_type": "markdown",
   "id": "ff969e5a",
   "metadata": {},
   "source": [
    "## 27. Write a program to find the greatest common divisor (GCD) of two numbers.\n"
   ]
  },
  {
   "cell_type": "code",
   "execution_count": 89,
   "id": "e111131c",
   "metadata": {},
   "outputs": [],
   "source": [
    "def find_gcd(a, b):\n",
    "    while b != 0:\n",
    "        a, b = b, a % b\n",
    "    return a"
   ]
  },
  {
   "cell_type": "code",
   "execution_count": 90,
   "id": "54a5c6fb",
   "metadata": {},
   "outputs": [
    {
     "data": {
      "text/plain": [
       "2"
      ]
     },
     "execution_count": 90,
     "metadata": {},
     "output_type": "execute_result"
    }
   ],
   "source": [
    "find_gcd(134, 88)"
   ]
  },
  {
   "cell_type": "markdown",
   "id": "3c8c4ac5",
   "metadata": {},
   "source": [
    "## 28. Implement a function to calculate the square root of a given number.\n"
   ]
  },
  {
   "cell_type": "code",
   "execution_count": 93,
   "id": "0c71e097",
   "metadata": {},
   "outputs": [],
   "source": [
    "def square_root(n):\n",
    "    if n == 0:\n",
    "        return 0\n",
    "    x = n\n",
    "\n",
    "    while True:\n",
    "        # Update the guess using Newton's method\n",
    "        new_x = 0.5 * (x + n / x)\n",
    "        \n",
    "        # Check if the new guess is close enough to the previous guess\n",
    "        if abs(x - new_x) < 1e-10:\n",
    "            break\n",
    "        \n",
    "        # Update the guess for the next iteration\n",
    "        x = new_x\n",
    "    \n",
    "    return round(x, 2)"
   ]
  },
  {
   "cell_type": "code",
   "execution_count": 94,
   "id": "a3b9db45",
   "metadata": {},
   "outputs": [
    {
     "data": {
      "text/plain": [
       "9.38"
      ]
     },
     "execution_count": 94,
     "metadata": {},
     "output_type": "execute_result"
    }
   ],
   "source": [
    "square_root (88)"
   ]
  },
  {
   "cell_type": "markdown",
   "id": "3e1fbd43",
   "metadata": {},
   "source": [
    "## 29. Write a Python program to check if a given string is a valid palindrome ignoring non-alphanumeric characters."
   ]
  },
  {
   "cell_type": "code",
   "execution_count": 95,
   "id": "b82c805f",
   "metadata": {},
   "outputs": [],
   "source": [
    "import re\n",
    "\n",
    "def is_valid_palindrome(string):\n",
    "    # Remove non-alphanumeric characters and convert to lowercase\n",
    "    alphanumeric_string = re.sub(r'[^a-zA-Z0-9]', '', string.lower())\n",
    "    \n",
    "    # Check if the alphanumeric string is a palindrome\n",
    "    return alphanumeric_string == alphanumeric_string[::-1]\n"
   ]
  },
  {
   "cell_type": "code",
   "execution_count": 96,
   "id": "276d349a",
   "metadata": {},
   "outputs": [
    {
     "data": {
      "text/plain": [
       "False"
      ]
     },
     "execution_count": 96,
     "metadata": {},
     "output_type": "execute_result"
    }
   ],
   "source": [
    "is_valid_palindrome ('chin')"
   ]
  },
  {
   "cell_type": "markdown",
   "id": "22b58707",
   "metadata": {},
   "source": [
    "## 30. Implement a function to find the minimum element in a rotated sorted list.\n"
   ]
  },
  {
   "cell_type": "code",
   "execution_count": 97,
   "id": "b25cb33d",
   "metadata": {},
   "outputs": [],
   "source": [
    "def find_minimum(nums):\n",
    "    left = 0\n",
    "    right = len(nums) - 1\n",
    "    \n",
    "    while left < right:\n",
    "        mid = left + (right - left) // 2\n",
    "        \n",
    "        if nums[mid] > nums[right]:\n",
    "            left = mid + 1\n",
    "        else:\n",
    "            right = mid\n",
    "    \n",
    "    return nums[left]"
   ]
  },
  {
   "cell_type": "code",
   "execution_count": 99,
   "id": "8b8878b6",
   "metadata": {},
   "outputs": [
    {
     "data": {
      "text/plain": [
       "'3'"
      ]
     },
     "execution_count": 99,
     "metadata": {},
     "output_type": "execute_result"
    }
   ],
   "source": [
    "find_minimum ('56783727')"
   ]
  },
  {
   "cell_type": "markdown",
   "id": "b1a3a620",
   "metadata": {},
   "source": [
    "## 31. Write a program to find the sum of all even numbers in a list.\n"
   ]
  },
  {
   "cell_type": "code",
   "execution_count": 104,
   "id": "b4c661ae",
   "metadata": {},
   "outputs": [],
   "source": [
    "def sum_of_evens (lst):\n",
    "    sum=0\n",
    "    for i in lst:\n",
    "        if i%2 == 0:\n",
    "            sum += i\n",
    "    print(\"Sum of the even numbers in the list: \", sum)"
   ]
  },
  {
   "cell_type": "code",
   "execution_count": 105,
   "id": "cc4a1bb2",
   "metadata": {},
   "outputs": [
    {
     "name": "stdout",
     "output_type": "stream",
     "text": [
      "Sum of the even numbers in the list:  200\n"
     ]
    }
   ],
   "source": [
    "sum_of_evens ([23,55,6,99,126,68])"
   ]
  },
  {
   "cell_type": "markdown",
   "id": "7157d213",
   "metadata": {},
   "source": [
    "## 32. Implement a function to calculate the power of a number using recursion.\n"
   ]
  },
  {
   "cell_type": "code",
   "execution_count": 106,
   "id": "2c34c691",
   "metadata": {},
   "outputs": [],
   "source": [
    "def power(base, exponent):\n",
    "    if exponent == 0:\n",
    "        return 1\n",
    "    elif exponent < 0:\n",
    "        return 1 / power(base, -exponent)\n",
    "    else:\n",
    "        return base * power(base, exponent - 1)"
   ]
  },
  {
   "cell_type": "code",
   "execution_count": 107,
   "id": "c8893cb0",
   "metadata": {},
   "outputs": [
    {
     "data": {
      "text/plain": [
       "23945242826029513411849172299223580994042798784118784"
      ]
     },
     "execution_count": 107,
     "metadata": {},
     "output_type": "execute_result"
    }
   ],
   "source": [
    "power (4,87)"
   ]
  },
  {
   "cell_type": "markdown",
   "id": "47fcbd05",
   "metadata": {},
   "source": [
    "## 33. Write a Python program to remove duplicates from a list while preserving the order.\n"
   ]
  },
  {
   "cell_type": "code",
   "execution_count": 108,
   "id": "b421aa47",
   "metadata": {},
   "outputs": [],
   "source": [
    "def remove_duplicates(lst):\n",
    "    unique_list = []\n",
    "    for i in lst:\n",
    "        if i not in unique_list:\n",
    "            unique_list.append(i)\n",
    "    return unique_list"
   ]
  },
  {
   "cell_type": "code",
   "execution_count": 109,
   "id": "4156ffbd",
   "metadata": {},
   "outputs": [
    {
     "data": {
      "text/plain": [
       "[1, 3, 6, 78, 87, 99]"
      ]
     },
     "execution_count": 109,
     "metadata": {},
     "output_type": "execute_result"
    }
   ],
   "source": [
    "remove_duplicates([1,1,1,3,6,3,78,87,99,78])"
   ]
  },
  {
   "cell_type": "markdown",
   "id": "aa51b5c6",
   "metadata": {},
   "source": [
    "## 34. Implement a function to find the longest common prefix among a list of strings.\n"
   ]
  },
  {
   "cell_type": "code",
   "execution_count": 110,
   "id": "2fd2d291",
   "metadata": {},
   "outputs": [
    {
     "name": "stdout",
     "output_type": "stream",
     "text": [
      "Longest common prefix: fl\n"
     ]
    }
   ],
   "source": [
    "def find_longest_common_prefix(strs):\n",
    "    if not strs:\n",
    "        return \"\"\n",
    "    \n",
    "    min_length = min(len(s) for s in strs)\n",
    "    common_prefix = \"\"\n",
    "    \n",
    "    for i in range(min_length):\n",
    "        char = strs[0][i]\n",
    "        if all(s[i] == char for s in strs):\n",
    "            common_prefix += char\n",
    "        else:\n",
    "            break\n",
    "    \n",
    "    return common_prefix\n",
    "\n",
    "# Example usage:\n",
    "input_strings = [\"flower\", \"flow\", \"flight\"]\n",
    "longest_prefix = find_longest_common_prefix(input_strings)\n",
    "print(\"Longest common prefix:\", longest_prefix)\n"
   ]
  },
  {
   "cell_type": "markdown",
   "id": "24278b7d",
   "metadata": {},
   "source": [
    "## 35. Write a program to check if a given number is a perfect square.\n"
   ]
  },
  {
   "cell_type": "code",
   "execution_count": 111,
   "id": "9cb29fab",
   "metadata": {},
   "outputs": [
    {
     "name": "stdout",
     "output_type": "stream",
     "text": [
      "Enter a number: 8\n",
      "The number is not a perfect square.\n"
     ]
    }
   ],
   "source": [
    "def perfect_sq_root (n):\n",
    "    if n < 0:\n",
    "        return False\n",
    "    if n == 0:\n",
    "        return True\n",
    "\n",
    "    # Binary search to find the square root\n",
    "    left = 1\n",
    "    right = n\n",
    "\n",
    "    while left <= right:\n",
    "        mid = left + (right - left) // 2\n",
    "        square = mid * mid\n",
    "\n",
    "        if square == n:\n",
    "            return True\n",
    "        elif square < n:\n",
    "            left = mid + 1\n",
    "        else:\n",
    "            right = mid - 1\n",
    "\n",
    "    return False\n",
    "\n",
    "# Example usage:\n",
    "input_number = int(input(\"Enter a number: \"))\n",
    "if perfect_sq_root(input_number):\n",
    "    print(\"The number is a perfect square.\")\n",
    "else:\n",
    "    print(\"The number is not a perfect square.\")"
   ]
  },
  {
   "cell_type": "markdown",
   "id": "e59e5656",
   "metadata": {},
   "source": [
    "## 36. Implement a function to calculate the product of all elements in a list.\n"
   ]
  },
  {
   "cell_type": "code",
   "execution_count": 112,
   "id": "09214e48",
   "metadata": {},
   "outputs": [],
   "source": [
    "def prod_ele_lst (lst):\n",
    "    prod= 1\n",
    "    for i in lst:\n",
    "        prod *= i\n",
    "        \n",
    "    return prod    "
   ]
  },
  {
   "cell_type": "code",
   "execution_count": 114,
   "id": "11741a99",
   "metadata": {},
   "outputs": [
    {
     "data": {
      "text/plain": [
       "362880"
      ]
     },
     "execution_count": 114,
     "metadata": {},
     "output_type": "execute_result"
    }
   ],
   "source": [
    "prod_ele_lst ([1,2,3,4,5,6,7,8,9])"
   ]
  },
  {
   "cell_type": "markdown",
   "id": "71258384",
   "metadata": {},
   "source": [
    "## 37. Write a Python program to reverse the order of words in a sentence while preserving the word order."
   ]
  },
  {
   "cell_type": "code",
   "execution_count": 115,
   "id": "ed236760",
   "metadata": {},
   "outputs": [
    {
     "name": "stdout",
     "output_type": "stream",
     "text": [
      "Enter a sentence: there is a lot of wind outside\n",
      "Reversed sentence: outside wind of lot a is there\n"
     ]
    }
   ],
   "source": [
    "def reverse_words(sentence):\n",
    "    words = sentence.split()\n",
    "    reversed_words = words[::-1]\n",
    "    reversed_sentence = ' '.join(reversed_words)\n",
    "    return reversed_sentence\n",
    "\n",
    "input_sentence = input(\"Enter a sentence: \")\n",
    "reversed_sentence = reverse_words(input_sentence)\n",
    "print(\"Reversed sentence:\", reversed_sentence)\n"
   ]
  },
  {
   "cell_type": "markdown",
   "id": "e1e25972",
   "metadata": {},
   "source": [
    "## 38. Implement a function to find the missing number in a given list of consecutive numbers.\n"
   ]
  },
  {
   "cell_type": "code",
   "execution_count": 116,
   "id": "00cbde3d",
   "metadata": {},
   "outputs": [
    {
     "name": "stdout",
     "output_type": "stream",
     "text": [
      "Missing number: 4\n"
     ]
    }
   ],
   "source": [
    "def find_missing_number(nums):\n",
    "    n = len(nums) + 1\n",
    "    expected_sum = (n * (n + 1)) // 2\n",
    "    actual_sum = sum(nums)\n",
    "    missing_number = expected_sum - actual_sum\n",
    "    return missing_number\n",
    "\n",
    "\n",
    "input_list = [1, 2, 3, 5, 6, 7, 8, 9]\n",
    "missing_number = find_missing_number(input_list)\n",
    "print(\"Missing number:\", missing_number)\n"
   ]
  },
  {
   "cell_type": "markdown",
   "id": "b7c2f232",
   "metadata": {},
   "source": [
    "## 39. Write a program to find the sum of digits of a given number.\n"
   ]
  },
  {
   "cell_type": "code",
   "execution_count": 117,
   "id": "69a99384",
   "metadata": {},
   "outputs": [
    {
     "name": "stdout",
     "output_type": "stream",
     "text": [
      "Enter a number: 8795\n",
      "Sum of digits: 29\n"
     ]
    }
   ],
   "source": [
    "def sum_of_digits(number):\n",
    "    total_sum = 0\n",
    "    number = abs(number)\n",
    "    \n",
    "    while number > 0:\n",
    "        digit = number % 10\n",
    "        total_sum += digit\n",
    "        number //= 10\n",
    "    \n",
    "    return total_sum\n",
    "\n",
    "input_number = int(input(\"Enter a number: \"))\n",
    "digit_sum = sum_of_digits(input_number)\n",
    "print(\"Sum of digits:\", digit_sum)\n"
   ]
  },
  {
   "cell_type": "markdown",
   "id": "dc6d8e3d",
   "metadata": {},
   "source": [
    "## 40. Implement a function to check if a given string is a valid palindrome considering case sensitivity.\n"
   ]
  },
  {
   "cell_type": "code",
   "execution_count": 118,
   "id": "56855e9d",
   "metadata": {},
   "outputs": [
    {
     "name": "stdout",
     "output_type": "stream",
     "text": [
      "Enter a string: knowledge\n",
      "The string is not a valid palindrome.\n"
     ]
    }
   ],
   "source": [
    "def is_valid_palindrome(string):\n",
    "    reversed_string = string[::-1]\n",
    "    return string == reversed_string\n",
    "\n",
    "input_string = input(\"Enter a string: \")\n",
    "if is_valid_palindrome(input_string):\n",
    "    print(\"The string is a valid palindrome.\")\n",
    "else:\n",
    "    print(\"The string is not a valid palindrome.\")"
   ]
  },
  {
   "cell_type": "markdown",
   "id": "b9ce8e7f",
   "metadata": {},
   "source": [
    "## 41. Write a Python program to find the smallest missing positive integer in a list.\n"
   ]
  },
  {
   "cell_type": "code",
   "execution_count": 119,
   "id": "90dd61f1",
   "metadata": {},
   "outputs": [
    {
     "name": "stdout",
     "output_type": "stream",
     "text": [
      "Smallest missing positive integer: 2\n"
     ]
    }
   ],
   "source": [
    "def find_smallest_missing_positive(nums):\n",
    "    n = len(nums)\n",
    "\n",
    "    # Step 1: Move non-positive numbers to the left\n",
    "    next_positive_index = 0\n",
    "    for i in range(n):\n",
    "        if nums[i] <= 0:\n",
    "            nums[i], nums[next_positive_index] = nums[next_positive_index], nums[i]\n",
    "            next_positive_index += 1\n",
    "\n",
    "    # Step 2: Mark presence of positive numbers\n",
    "    for i in range(next_positive_index, n):\n",
    "        num = abs(nums[i])\n",
    "        if num <= n - next_positive_index:\n",
    "            index = next_positive_index + num - 1\n",
    "            if nums[index] > 0:\n",
    "                nums[index] *= -1\n",
    "\n",
    "    # Step 3: Find the first positive index\n",
    "    for i in range(next_positive_index, n):\n",
    "        if nums[i] > 0:\n",
    "            return i - next_positive_index + 1\n",
    "\n",
    "    # Step 4: All positive numbers present, return n + 1\n",
    "    return n - next_positive_index + 1\n",
    "\n",
    "# Example usage:\n",
    "input_list = [3, 4, -1, 1]\n",
    "missing_number = find_smallest_missing_positive(input_list)\n",
    "print(\"Smallest missing positive integer:\", missing_number)\n"
   ]
  },
  {
   "cell_type": "markdown",
   "id": "465f79fe",
   "metadata": {},
   "source": [
    "## 42. Implement a function to find the longest palindrome substring in a given string.\n"
   ]
  },
  {
   "cell_type": "code",
   "execution_count": 120,
   "id": "ee128239",
   "metadata": {},
   "outputs": [
    {
     "name": "stdout",
     "output_type": "stream",
     "text": [
      "Enter a string: able\n",
      "Longest palindrome substring: a\n"
     ]
    }
   ],
   "source": [
    "def find_longest_palindrome(s):\n",
    "    longest_palindrome = \"\"\n",
    "    max_length = 0\n",
    "\n",
    "    # Helper function to expand around center\n",
    "    def expand_around_center(left, right):\n",
    "        nonlocal longest_palindrome, max_length\n",
    "        while left >= 0 and right < len(s) and s[left] == s[right]:\n",
    "            left -= 1\n",
    "            right += 1\n",
    "        \n",
    "        current_length = right - left - 1\n",
    "        if current_length > max_length:\n",
    "            longest_palindrome = s[left + 1:right]\n",
    "            max_length = current_length\n",
    "\n",
    "    # Iterate through each character as center\n",
    "    for i in range(len(s)):\n",
    "        # Case 1: Center of palindrome is a single character\n",
    "        expand_around_center(i, i)\n",
    "\n",
    "        # Case 2: Center of palindrome is between two characters\n",
    "        expand_around_center(i, i + 1)\n",
    "\n",
    "    return longest_palindrome\n",
    "\n",
    "# Example usage:\n",
    "input_string = input(\"Enter a string: \")\n",
    "longest_palindrome = find_longest_palindrome(input_string)\n",
    "print(\"Longest palindrome substring:\", longest_palindrome)"
   ]
  },
  {
   "cell_type": "markdown",
   "id": "b83e7663",
   "metadata": {},
   "source": [
    "## 43. Write a program to find the number of occurrences of a given element in a list.\n"
   ]
  },
  {
   "cell_type": "code",
   "execution_count": 121,
   "id": "c49d251d",
   "metadata": {},
   "outputs": [],
   "source": [
    "def count_occurrences(lst, element):\n",
    "    count = 0\n",
    "    for item in lst:\n",
    "        if item == element:\n",
    "            count += 1\n",
    "    return count"
   ]
  },
  {
   "cell_type": "code",
   "execution_count": 124,
   "id": "16d5e74d",
   "metadata": {},
   "outputs": [
    {
     "data": {
      "text/plain": [
       "3"
      ]
     },
     "execution_count": 124,
     "metadata": {},
     "output_type": "execute_result"
    }
   ],
   "source": [
    "count_occurrences([2, 5, 4, 2, 8, 2, 3, 5], 2)"
   ]
  },
  {
   "cell_type": "markdown",
   "id": "d2c4cfab",
   "metadata": {},
   "source": [
    "## 44. Implement a function to check if a given number is a perfect number.\n"
   ]
  },
  {
   "cell_type": "code",
   "execution_count": 125,
   "id": "c84b4590",
   "metadata": {},
   "outputs": [
    {
     "name": "stdout",
     "output_type": "stream",
     "text": [
      "Enter a number: 852\n",
      "The number is not a perfect number.\n"
     ]
    }
   ],
   "source": [
    "def is_perfect_number(number):\n",
    "    if number <= 0:\n",
    "        return False\n",
    "\n",
    "    divisors_sum = 0\n",
    "    for i in range(1, number):\n",
    "        if number % i == 0:\n",
    "            divisors_sum += i\n",
    "\n",
    "    return divisors_sum == number\n",
    "\n",
    "\n",
    "input_number = int(input(\"Enter a number: \"))\n",
    "if is_perfect_number(input_number):\n",
    "    print(\"The number is a perfect number.\")\n",
    "else:\n",
    "    print(\"The number is not a perfect number.\")\n"
   ]
  },
  {
   "cell_type": "markdown",
   "id": "b7645fe7",
   "metadata": {},
   "source": [
    "## 45. Write a Python program to remove all duplicates from a string.\n"
   ]
  },
  {
   "cell_type": "code",
   "execution_count": 126,
   "id": "ace67927",
   "metadata": {},
   "outputs": [
    {
     "name": "stdout",
     "output_type": "stream",
     "text": [
      "Enter a string: stats\n",
      "String with duplicates removed: sta\n"
     ]
    }
   ],
   "source": [
    "def remove_duplicates(string):\n",
    "    unique_chars = []\n",
    "    for char in string:\n",
    "        if char not in unique_chars:\n",
    "            unique_chars.append(char)\n",
    "    return ''.join(unique_chars)\n",
    "\n",
    "# Example\n",
    "input_string = input(\"Enter a string: \")\n",
    "result = remove_duplicates(input_string)\n",
    "print(\"String with duplicates removed:\", result)\n"
   ]
  },
  {
   "cell_type": "markdown",
   "id": "878f1bf3",
   "metadata": {},
   "source": [
    "## 46. Implement a function to find the first missing positive\n"
   ]
  },
  {
   "cell_type": "code",
   "execution_count": 127,
   "id": "32571783",
   "metadata": {},
   "outputs": [
    {
     "name": "stdout",
     "output_type": "stream",
     "text": [
      "First missing positive integer: 2\n"
     ]
    }
   ],
   "source": [
    "def find_first_missing_positive(nums):\n",
    "    nums = set(nums)\n",
    "    n = 1\n",
    "\n",
    "    while n in nums:\n",
    "        n += 1\n",
    "\n",
    "    return n\n",
    "\n",
    "\n",
    "input_list = [3, 4, -1, 1]\n",
    "missing_number = find_first_missing_positive(input_list)\n",
    "print(\"First missing positive integer:\", missing_number)\n"
   ]
  }
 ],
 "metadata": {
  "kernelspec": {
   "display_name": "Python 3 (ipykernel)",
   "language": "python",
   "name": "python3"
  },
  "language_info": {
   "codemirror_mode": {
    "name": "ipython",
    "version": 3
   },
   "file_extension": ".py",
   "mimetype": "text/x-python",
   "name": "python",
   "nbconvert_exporter": "python",
   "pygments_lexer": "ipython3",
   "version": "3.9.12"
  }
 },
 "nbformat": 4,
 "nbformat_minor": 5
}
